{
 "cells": [
  {
   "cell_type": "markdown",
   "metadata": {},
   "source": [
    "<img src=\"logos.jpg\" width=\"700\" />\n",
    "\n",
    "## Predicting House Prices\n",
    "\n",
    "This tutorial guides you through a regression predictive modeling application: predict the median price of homes in a given Boston suburb in the mid-1970.\n",
    "\n",
    "# Tools\n",
    "\n",
    "* Keras (for developing and evaluating deep learning models)\n",
    "* Matplot (to graph training history)\n",
    "* Numpy (tensor operations)\n",
    "* Scikitlearn (for data normalization)\n",
    "\n",
    "## Step 1: Load the Boston dataset\n",
    "We first load the [Boston House Price](https://archive.ics.uci.edu/ml/machine-learning-databases/housing/) dataset, a well-studied problem in machine learning that involves the prediction of a house price in thousands of dollars given details of the house and its neighborhood.\n",
    "\n",
    "It’s a set of 506 data points that are splitted into 404 training samples and 102 test samples. The dataset describes 13 numerical properties (such as crime rate, proportion of nonretail business acres, chemical concentrations and more) of houses in Boston suburbs in the mid-1970s. \n",
    "Each \"feature\" in the input data has a different scale. For instance some values are proportions, which take a values between 0 and 1, others take values between 1 and 12, others between 0 and 100.\n",
    "\n",
    "Fortunately, the keras.datasets module already includes methods to load and fetch popular reference datasets like Boston house price dataset.<br>\n",
    "The following code load the numerical properties and the according labels. The variables train_data and train_targets form the training set, the data that the model will learn from. The model will then be tested on the test set (test_data and test_targets variables)."
   ]
  },
  {
   "cell_type": "code",
   "execution_count": 1,
   "metadata": {
    "scrolled": true
   },
   "outputs": [
    {
     "name": "stderr",
     "output_type": "stream",
     "text": [
      "Using TensorFlow backend.\n"
     ]
    }
   ],
   "source": [
    "import keras\n",
    "from keras.datasets import boston_housing\n",
    "\n",
    "(train_data, train_targets), (test_data, test_targets) = boston_housing.load_data() # returns two tuples of Numpy arrays. The first tuple represents the training x-y pairs while the second tuple represents the testing x-y pairs."
   ]
  },
  {
   "cell_type": "markdown",
   "metadata": {},
   "source": [
    "Show shape (dimensions) of the train and test sets."
   ]
  },
  {
   "cell_type": "code",
   "execution_count": 2,
   "metadata": {},
   "outputs": [
    {
     "name": "stdout",
     "output_type": "stream",
     "text": [
      "(404, 13)\n",
      "(102, 13)\n"
     ]
    }
   ],
   "source": [
    "print(train_data.shape)\n",
    "print(test_data.shape)\n"
   ]
  },
  {
   "cell_type": "markdown",
   "metadata": {},
   "source": [
    "We see that there are 404 and 102 samples for the train and test sets respectively with 13 numerical features each one. The 13 features in the input data are as follow:\n",
    "\n",
    "1. Per capita crime rate.\n",
    "2. Proportion of residential land zoned for lots over 25,000 square feet.\n",
    "3. Proportion of non-retail business acres per town.\n",
    "4. Charles River dummy variable (= 1 if tract bounds river; 0 otherwise).\n",
    "5. Nitric oxides concentration (parts per 10 million).\n",
    "6. Average number of rooms per dwelling.\n",
    "7. Proportion of owner-occupied units built prior to 1940.\n",
    "8. Weighted distances to five Boston employment centres.\n",
    "9. Index of accessibility to radial highways.\n",
    "10. Full-value property-tax rate per $10,000.\n",
    "11. Pupil-teacher ratio by town.\n",
    "12. 1000 * (Bk - 0.63) ** 2 where Bk is the proportion of Black people by town.\n",
    "13. % lower status of the population.\n",
    "\n",
    "The targets are the median values of owner-occupied homes, in thousands of dollars:"
   ]
  },
  {
   "cell_type": "code",
   "execution_count": 3,
   "metadata": {},
   "outputs": [
    {
     "data": {
      "text/plain": [
       "array([15.2, 42.3, 50. , 21.1, 17.7, 18.5, 11.3, 15.6, 15.6, 14.4, 12.1,\n",
       "       17.9, 23.1, 19.9, 15.7,  8.8, 50. , 22.5, 24.1, 27.5, 10.9, 30.8,\n",
       "       32.9, 24. , 18.5, 13.3, 22.9, 34.7, 16.6, 17.5, 22.3, 16.1, 14.9,\n",
       "       23.1, 34.9, 25. , 13.9, 13.1, 20.4, 20. , 15.2, 24.7, 22.2, 16.7,\n",
       "       12.7, 15.6, 18.4, 21. , 30.1, 15.1, 18.7,  9.6, 31.5, 24.8, 19.1,\n",
       "       22. , 14.5, 11. , 32. , 29.4, 20.3, 24.4, 14.6, 19.5, 14.1, 14.3,\n",
       "       15.6, 10.5,  6.3, 19.3, 19.3, 13.4, 36.4, 17.8, 13.5, 16.5,  8.3,\n",
       "       14.3, 16. , 13.4, 28.6, 43.5, 20.2, 22. , 23. , 20.7, 12.5, 48.5,\n",
       "       14.6, 13.4, 23.7, 50. , 21.7, 39.8, 38.7, 22.2, 34.9, 22.5, 31.1,\n",
       "       28.7, 46. , 41.7, 21. , 26.6, 15. , 24.4, 13.3, 21.2, 11.7, 21.7,\n",
       "       19.4, 50. , 22.8, 19.7, 24.7, 36.2, 14.2, 18.9, 18.3, 20.6, 24.6,\n",
       "       18.2,  8.7, 44. , 10.4, 13.2, 21.2, 37. , 30.7, 22.9, 20. , 19.3,\n",
       "       31.7, 32. , 23.1, 18.8, 10.9, 50. , 19.6,  5. , 14.4, 19.8, 13.8,\n",
       "       19.6, 23.9, 24.5, 25. , 19.9, 17.2, 24.6, 13.5, 26.6, 21.4, 11.9,\n",
       "       22.6, 19.6,  8.5, 23.7, 23.1, 22.4, 20.5, 23.6, 18.4, 35.2, 23.1,\n",
       "       27.9, 20.6, 23.7, 28. , 13.6, 27.1, 23.6, 20.6, 18.2, 21.7, 17.1,\n",
       "        8.4, 25.3, 13.8, 22.2, 18.4, 20.7, 31.6, 30.5, 20.3,  8.8, 19.2,\n",
       "       19.4, 23.1, 23. , 14.8, 48.8, 22.6, 33.4, 21.1, 13.6, 32.2, 13.1,\n",
       "       23.4, 18.9, 23.9, 11.8, 23.3, 22.8, 19.6, 16.7, 13.4, 22.2, 20.4,\n",
       "       21.8, 26.4, 14.9, 24.1, 23.8, 12.3, 29.1, 21. , 19.5, 23.3, 23.8,\n",
       "       17.8, 11.5, 21.7, 19.9, 25. , 33.4, 28.5, 21.4, 24.3, 27.5, 33.1,\n",
       "       16.2, 23.3, 48.3, 22.9, 22.8, 13.1, 12.7, 22.6, 15. , 15.3, 10.5,\n",
       "       24. , 18.5, 21.7, 19.5, 33.2, 23.2,  5. , 19.1, 12.7, 22.3, 10.2,\n",
       "       13.9, 16.3, 17. , 20.1, 29.9, 17.2, 37.3, 45.4, 17.8, 23.2, 29. ,\n",
       "       22. , 18. , 17.4, 34.6, 20.1, 25. , 15.6, 24.8, 28.2, 21.2, 21.4,\n",
       "       23.8, 31. , 26.2, 17.4, 37.9, 17.5, 20. ,  8.3, 23.9,  8.4, 13.8,\n",
       "        7.2, 11.7, 17.1, 21.6, 50. , 16.1, 20.4, 20.6, 21.4, 20.6, 36.5,\n",
       "        8.5, 24.8, 10.8, 21.9, 17.3, 18.9, 36.2, 14.9, 18.2, 33.3, 21.8,\n",
       "       19.7, 31.6, 24.8, 19.4, 22.8,  7.5, 44.8, 16.8, 18.7, 50. , 50. ,\n",
       "       19.5, 20.1, 50. , 17.2, 20.8, 19.3, 41.3, 20.4, 20.5, 13.8, 16.5,\n",
       "       23.9, 20.6, 31.5, 23.3, 16.8, 14. , 33.8, 36.1, 12.8, 18.3, 18.7,\n",
       "       19.1, 29. , 30.1, 50. , 50. , 22. , 11.9, 37.6, 50. , 22.7, 20.8,\n",
       "       23.5, 27.9, 50. , 19.3, 23.9, 22.6, 15.2, 21.7, 19.2, 43.8, 20.3,\n",
       "       33.2, 19.9, 22.5, 32.7, 22. , 17.1, 19. , 15. , 16.1, 25.1, 23.7,\n",
       "       28.7, 37.2, 22.6, 16.4, 25. , 29.8, 22.1, 17.4, 18.1, 30.3, 17.5,\n",
       "       24.7, 12.6, 26.5, 28.7, 13.3, 10.4, 24.4, 23. , 20. , 17.8,  7. ,\n",
       "       11.8, 24.4, 13.8, 19.4, 25.2, 19.4, 19.4, 29.1])"
      ]
     },
     "execution_count": 3,
     "metadata": {},
     "output_type": "execute_result"
    }
   ],
   "source": [
    "train_targets\n"
   ]
  },
  {
   "cell_type": "markdown",
   "metadata": {},
   "source": [
    "The prices are typically between \\$10,000 and \\$50,000. If that sounds cheap, remember this was the mid-1970s, and these prices are not inflation-adjusted.\n"
   ]
  },
  {
   "cell_type": "markdown",
   "metadata": {},
   "source": [
    "## Step 2: Preprocess dataset\n",
    "\n"
   ]
  },
  {
   "cell_type": "markdown",
   "metadata": {},
   "source": [
    "The first sample of the train dataset is listed below."
   ]
  },
  {
   "cell_type": "code",
   "execution_count": 4,
   "metadata": {},
   "outputs": [
    {
     "data": {
      "text/plain": [
       "array([  1.23247,   0.     ,   8.14   ,   0.     ,   0.538  ,   6.142  ,\n",
       "        91.7    ,   3.9769 ,   4.     , 307.     ,  21.     , 396.9    ,\n",
       "        18.72   ])"
      ]
     },
     "execution_count": 4,
     "metadata": {},
     "output_type": "execute_result"
    }
   ],
   "source": [
    "train_data[0]\n"
   ]
  },
  {
   "cell_type": "markdown",
   "metadata": {},
   "source": [
    "As we note all the input attributes vary in their scales because they measure different quantities. It's a good practice normalize the data before modeling it using a neural network model: for each feature in the input data (a column in the input data matrix), you subtract the mean of the feature and divide by the standard deviation, so that the feature is centered around 0 and has a unit standard deviation. This is easily done in Numpy.\n"
   ]
  },
  {
   "cell_type": "code",
   "execution_count": 5,
   "metadata": {},
   "outputs": [],
   "source": [
    "mean = train_data.mean(axis=0) # Compute the arithmetic mean along the sample's axis (0).\n",
    "train_data -= mean # For each element inside the train array then substract the mean value.\n",
    "std = train_data.std(axis=0) # Compute the standard deviation along the sample's axis (0).\n",
    "train_data /= std # For each element inside the train array then divide by the std value.\n",
    "\n",
    "test_data -= mean # For each element inside the train array then substract the mean value.\n",
    "test_data /= std # For each element inside the train array then divide by the std value.\n"
   ]
  },
  {
   "cell_type": "markdown",
   "metadata": {},
   "source": [
    "Note that the quantities used for normalizing the test data are computed using the training data. You should never use in your workflow any quantity computed on the test data, even for something as simple as data normalization."
   ]
  },
  {
   "cell_type": "markdown",
   "metadata": {},
   "source": [
    "## Step 3: Define model's arquitecture and layers\n"
   ]
  },
  {
   "cell_type": "markdown",
   "metadata": {},
   "source": [
    "Because so few samples are available, we’ll use a very small network. In general, the less training data you have, the worse overfit-ting will be, and using a small network is one way to mitigate overfitting.\n",
    "<br><br>\n"
   ]
  },
  {
   "cell_type": "code",
   "execution_count": 6,
   "metadata": {},
   "outputs": [],
   "source": [
    "from keras.models import Sequential\n",
    "from keras.layers import Dense\n",
    "\n",
    "# Because we will need to instantiate\n",
    "# the same model multiple times,\n",
    "# we define a function to construct it and we will use it for in the validation stage\n",
    "def build_model():\n",
    "    model = Sequential() # Declare de Sequential model (linear stack of layers), which is the most common way by far.\n",
    "    \n",
    "    # Declare the input layer and the first hidden layer.\n",
    "    model.add(Dense(64, # Integer number that corresponds to the dimensionality of the output space (the number of neurons in the next layer that in this case is the first hidden layer).\n",
    "                    input_shape=(13,), # The input shape should be the same of the training input (in this case the number of features).\n",
    "                    activation='relu') # The rectifier (Relu) activation function is used for models where we need continuous values.\n",
    "             )\n",
    "    \n",
    "    #Declare the second hidden layer (with the same values of the previous hidden layer).\n",
    "    model.add(Dense(64, activation='relu'))\n",
    "    \n",
    "    # Declare the output layer with one neuron due to in this case we have a regression problem. \n",
    "    model.add(Dense(1))\n",
    "    \n",
    "    # Setup the network compilation\n",
    "    model.compile(optimizer='rmsprop', loss='mse', metrics=['mae'])    \n",
    "    return model"
   ]
  },
  {
   "cell_type": "markdown",
   "metadata": {},
   "source": [
    "Note:\n",
    "* The previous code compiles the network with the mse loss function—mean squared error, the square of the difference between the predictions and the targets. This is a widely used loss function for regression problems.\n",
    "* The code also setup the network to monitor the mean absolute error (MAE) metric during training. It’s the absolute value of the difference between the predictions and the targets. For instance, an MAE of 0.5 on this problem would mean your predictions are off by $500 on average.\n",
    "\n",
    "The network ends with a single unit and no activation function (it will be a linear layer) so the network is free to predict values in any range. This is a typical setup for scalar regression (a regression where you’re trying to predict a single continuous value).\n",
    "\n",
    "The resulting model is a neural network with two hidden layer, each with 64 units and a output layer with 1 output unit. "
   ]
  },
  {
   "cell_type": "markdown",
   "metadata": {},
   "source": [
    "![title](nb2-1.jpg)"
   ]
  },
  {
   "cell_type": "markdown",
   "metadata": {},
   "source": [
    "## Step 4: Validate the model using K-fold validation\n"
   ]
  },
  {
   "cell_type": "markdown",
   "metadata": {},
   "source": [
    "To evaluate the model, we could split the data into a training set and a validation set. But because we have so few data points, the validation set would end up being very small (for instance, about 100 examples). As a consequence, the validation scores might change a lot depending on which data points you chose to use for validation and which you chose for training: the validation scores might have a high variance with regard to the validation split. This would prevent from reliably evaluating the model.\n",
    "<br><br>\n",
    "The best practice in such situations is to use K-fold cross-validation. It consists of splitting the available data into K partitions (typically K = 4 or 5), instantiating K identical models, and training each one on K – 1 partitions while evaluating on the remaining partition. The validation score for the model used is then the average of the K validation scores obtained.\n",
    "\n"
   ]
  },
  {
   "cell_type": "code",
   "execution_count": 7,
   "metadata": {},
   "outputs": [
    {
     "name": "stdout",
     "output_type": "stream",
     "text": [
      "('processing fold #', 0)\n",
      "('processing fold #', 1)\n",
      "('processing fold #', 2)\n",
      "('processing fold #', 3)\n"
     ]
    }
   ],
   "source": [
    "import numpy as np \n",
    "\n",
    "k = 4 # Number of folds.\n",
    "num_val_samples = len(train_data) // k\n",
    "num_epochs = 90 # Number of epochs to train the model. An epoch is an iteration over the entire x and y data provided.\n",
    "all_scores = [] # Array to save each fold score.\n",
    "all_mae_histories = [] # Array to save the metrics to be captured in each epoch (for plotting purposes).\n",
    "for i in range(k):\n",
    "    print('processing fold #', i)\n",
    "    # Prepare the validation data: data from partition # k\n",
    "    val_data = train_data[i * num_val_samples: (i + 1) * num_val_samples]\n",
    "    val_targets = train_targets[i * num_val_samples: (i + 1) * num_val_samples]\n",
    "\n",
    "    # Prepare the training data: data from all other partitions\n",
    "    partial_train_data = np.concatenate(\n",
    "        [train_data[:i * num_val_samples],\n",
    "         train_data[(i + 1) * num_val_samples:]],\n",
    "        axis=0)\n",
    "    partial_train_targets = np.concatenate(\n",
    "        [train_targets[:i * num_val_samples],\n",
    "         train_targets[(i + 1) * num_val_samples:]],\n",
    "        axis=0)\n",
    "\n",
    "    # Build the Keras model (already compiled)\n",
    "    model = build_model()\n",
    "    # Train the model (in silent mode, verbose=0)\n",
    "    history = model.fit(partial_train_data, # numpy array of training data.\n",
    "                        partial_train_targets, # numpy array of training target (label) data.\n",
    "                        validation_data=(val_data, val_targets), # data on which to evaluate the loss and any model metrics at the end of each epoch. The model will not be trained on this data\n",
    "                        epochs=num_epochs, # number of epochs to train the model. An epoch is an iteration over the entire x and y data provided.\n",
    "                        batch_size=1, # integer or NULL. Number of samples per gradient update. If unspecified, batch_size will default to 32.\n",
    "                        verbose=0) # verbosity mode: 0 = silent, 1 = progress bar, 2 = one line per epoch.\n",
    "    \n",
    "    # Save the mean absolute error train history\n",
    "    mae_history = history.history['val_mean_absolute_error']\n",
    "    all_mae_histories.append(mae_history)\n",
    "    \n",
    "    # Evaluate the model on the validation data\n",
    "    val_mse, val_mae = model.evaluate(val_data, val_targets, verbose=0)\n",
    "    all_scores.append(val_mae)\n",
    "\n"
   ]
  },
  {
   "cell_type": "markdown",
   "metadata": {},
   "source": [
    "The next code show the score of each fold."
   ]
  },
  {
   "cell_type": "code",
   "execution_count": 8,
   "metadata": {},
   "outputs": [
    {
     "data": {
      "text/plain": [
       "[2.0716859786817343, 2.428080931748494, 3.6035199920729837, 2.19303965863615]"
      ]
     },
     "execution_count": 8,
     "metadata": {},
     "output_type": "execute_result"
    }
   ],
   "source": [
    "all_scores\n"
   ]
  },
  {
   "cell_type": "markdown",
   "metadata": {},
   "source": [
    "The next code calculate the mean of all scores."
   ]
  },
  {
   "cell_type": "code",
   "execution_count": 9,
   "metadata": {},
   "outputs": [
    {
     "data": {
      "text/plain": [
       "2.5740816402848408"
      ]
     },
     "execution_count": 9,
     "metadata": {},
     "output_type": "execute_result"
    }
   ],
   "source": [
    "np.mean(all_scores)\n"
   ]
  },
  {
   "cell_type": "markdown",
   "metadata": {},
   "source": [
    "As you can notice, the different runs do indeed show rather different validation scores, from 2.4 to 2.6. Their average (2.5) is a much more reliable metric than any single of these scores -- that's the entire point of K-fold cross-validation. In this case, we are off by \\$2,500 on average, which is still significant considering that the prices range from \\$10,000 to \\$50,000.\n",
    "\n",
    "We can then compute the average of the per-epoch MAE scores for all folds:\n"
   ]
  },
  {
   "cell_type": "code",
   "execution_count": 10,
   "metadata": {},
   "outputs": [],
   "source": [
    "average_mae_history = [\n",
    "    np.mean([x[i] for x in all_mae_histories]) for i in range(num_epochs)]\n"
   ]
  },
  {
   "cell_type": "markdown",
   "metadata": {},
   "source": [
    "\n",
    "\n",
    "Let's plot this:\n"
   ]
  },
  {
   "cell_type": "code",
   "execution_count": 11,
   "metadata": {},
   "outputs": [
    {
     "data": {
      "image/png": "[encoded data removed]",
      "text/plain": [
       "<Figure size 432x288 with 1 Axes>"
      ]
     },
     "metadata": {},
     "output_type": "display_data"
    }
   ],
   "source": [
    "%matplotlib inline\n",
    "import matplotlib.pyplot as plt\n",
    "\n",
    "plt.plot( # Plot Y versus X as lines.\n",
    "    range(1, len(average_mae_history) + 1), # Set the X coordinates (integer numbers from 1 to 80)\n",
    "    average_mae_history # Set the Y coordinates (each average_mae_history value)\n",
    ") \n",
    "plt.xlabel('Epochs') # set the x-axis label of the current axes.\n",
    "plt.ylabel('Validation MAE') # set the y-axis label of the current axes.\n",
    "plt.show()\n",
    "\n"
   ]
  },
  {
   "cell_type": "markdown",
   "metadata": {},
   "source": [
    "According to this plot, it seems that validation MAE stops improving significantly after 83 epochs approximately. Past that point, we start overfitting.\n",
    "\n",
    "Once we are done tuning other parameters of our model (besides the number of epochs, we could also adjust the size of the hidden layers), we can train a final \"production\" model on all of the training data, with the best parameters, then look at its performance on the test data:"
   ]
  },
  {
   "cell_type": "code",
   "execution_count": 12,
   "metadata": {},
   "outputs": [
    {
     "name": "stdout",
     "output_type": "stream",
     "text": [
      "102/102 [==============================] - 0s 564us/step\n"
     ]
    }
   ],
   "source": [
    "# Get a fresh, compiled model.\n",
    "model = build_model()\n",
    "\n",
    "# Train it on the entirety of the data.\n",
    "model.fit(train_data, # numpy array of training data.\n",
    "          train_targets, # numpy array of training target (label) data.\n",
    "          epochs=83, # number of epochs to train the model. An epoch is an iteration over the entire x and y data provided.\n",
    "          batch_size=16, # integer or NULL. Number of samples per gradient update. If unspecified, batch_size will default to 32.\n",
    "          verbose=0 # verbosity mode: 0 = silent, 1 = progress bar, 2 = one line per epoch.\n",
    "         )\n",
    "test_mse_score, test_mae_score = model.evaluate( # is for evaluating your trained model. Its output is accuracy or loss, not prediction to your input data.\n",
    "                                                test_data, # numpy array of test data.\n",
    "                                                test_targets # numpy array of test target (label) data.\n",
    "                                                )"
   ]
  },
  {
   "cell_type": "code",
   "execution_count": 13,
   "metadata": {},
   "outputs": [
    {
     "data": {
      "text/plain": [
       "2.6143015412723316"
      ]
     },
     "execution_count": 13,
     "metadata": {},
     "output_type": "execute_result"
    }
   ],
   "source": [
    "test_mae_score"
   ]
  },
  {
   "cell_type": "markdown",
   "metadata": {},
   "source": [
    "We are still off by about \\$2,600."
   ]
  },
  {
   "cell_type": "markdown",
   "metadata": {},
   "source": [
    "## Step 5: Create predictions on the test set\n",
    "\n",
    "Finally to create predictions using the model, we can use the predict() function.\n"
   ]
  },
  {
   "cell_type": "code",
   "execution_count": 14,
   "metadata": {},
   "outputs": [
    {
     "name": "stdout",
     "output_type": "stream",
     "text": [
      "Data (13 features): [[-0.39242675 -0.48361547 -0.16087773 -0.25683275 -0.08840061 -0.49947436\n",
      "   0.85606329 -0.68396235 -0.39603557  0.15707841 -0.30759583  0.42733126\n",
      "   0.47880119]]\n",
      " Known target: 18.8\n",
      " Predicted target=[[18.664377]]\n"
     ]
    }
   ],
   "source": [
    "from numpy import array\n",
    "\n",
    "# Get the input data to be predicted from the test set (13 features)\n",
    "Xnew = array([test_data[1]])\n",
    "\n",
    "# Make a prediction\n",
    "ynew = model.predict(Xnew)\n",
    "\n",
    "# Show the inputs, the known target, and the predicted target\n",
    "print(\"Data (13 features): %s\\n Known target: %s\\n Predicted target=%s\" % (Xnew, test_targets[1], ynew) )"
   ]
  },
  {
   "cell_type": "markdown",
   "metadata": {},
   "source": [
    "## Conclusions\n",
    "\n",
    "* Regression is done using different loss functions from classification; Mean Squared Error (MSE) is a commonly used loss function for regression.\n",
    "* Similarly, evaluation metrics to be used for regression differ from those used for classification; naturally the concept of \"accuracy\" does not apply for regression. A common regression metric is Mean Absolute Error (MAE).\n",
    "* When features in the input data have values in different ranges, each feature should be scaled independently as a preprocessing step.\n",
    "* When there is little data available, using K-Fold validation is a great way to reliably evaluate a model.\n",
    "* When little training data is available, it is preferable to use a small network with very few hidden layers (typically only one or two), in order to avoid severe overfitting.\n"
   ]
  }
 ],
 "metadata": {
  "kernelspec": {
   "display_name": "Python 2",
   "language": "python",
   "name": "python2"
  },
  "language_info": {
   "codemirror_mode": {
    "name": "ipython",
    "version": 2
   },
   "file_extension": ".py",
   "mimetype": "text/x-python",
   "name": "python",
   "nbconvert_exporter": "python",
   "pygments_lexer": "ipython2",
   "version": "2.7.12"
  }
 },
 "nbformat": 4,
 "nbformat_minor": 2
}
