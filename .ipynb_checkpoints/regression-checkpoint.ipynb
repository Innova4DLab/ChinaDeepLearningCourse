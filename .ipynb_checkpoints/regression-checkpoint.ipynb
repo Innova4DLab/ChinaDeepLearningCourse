{
 "cells": [
  {
   "cell_type": "markdown",
   "metadata": {},
   "source": [
    "## Predicting House Prices\n",
    "\n",
    "This tutorial guides you through a regression predictive modeling application: predict the median price of homes in a given Boston suburb in the mid-1970.\n",
    "\n",
    "# Tools\n",
    "\n",
    "Keras\n",
    "Matplot (to graph training history)\n",
    "Numpy (for data types and mathematical operations)\n",
    "Scikitlearn (for data normalization)\n",
    "\n",
    "## Step 1: Load the Boston dataset\n",
    "We first load the [Boston House Price](https://archive.ics.uci.edu/ml/machine-learning-databases/housing/) dataset, a well-studied problem in machine learning that involves the prediction of a house price in thousands of dollars given details of the house and its neighborhood.\n",
    "\n",
    "It’s a set of 506 data points that are splitted in the next section into 404 training samples and 102 test samples. The dataset describes 13 numerical properties (such as crime rate, proportion of nonretail business acres, chemical concentrations and more) of houses in Boston suburbs and is concerned with modeling the price of houses in those suburbs in thousands of dollars. \n",
    "\n",
    "The following codes load the numerical properties and the according labels. The variables x_train and train_targets form the training set, the data that the model will learn from. The model will then be tested on the test set (test_data and test_targets variables)."
   ]
  },
  {
   "cell_type": "code",
   "execution_count": null,
   "metadata": {},
   "outputs": [],
   "source": [
    "import keras\n",
    "from keras.datasets import boston_housing\n",
    "(train_data, train_targets), (test_data, test_targets) = boston_housing.load_data() # The dataset will be downloaded the first time."
   ]
  },
  {
   "cell_type": "markdown",
   "metadata": {},
   "source": [
    "## Step 2: Preprocess input data for neural network\n",
    "\n",
    "Show shape (dimensions) of the train and test sets."
   ]
  },
  {
   "cell_type": "code",
   "execution_count": 17,
   "metadata": {},
   "outputs": [
    {
     "name": "stdout",
     "output_type": "stream",
     "text": [
      "(404, 13)\n",
      "(102, 13)\n"
     ]
    }
   ],
   "source": [
    "print(train_data.shape)\n",
    "print(test_data.shape)"
   ]
  },
  {
   "cell_type": "markdown",
   "metadata": {},
   "source": [
    "We see that there are 404 and 102 samples for the train and test sets respectively with 13 numerical features each one."
   ]
  },
  {
   "cell_type": "markdown",
   "metadata": {},
   "source": [
    "A sample of the first 1 row is listed below."
   ]
  },
  {
   "cell_type": "code",
   "execution_count": 18,
   "metadata": {},
   "outputs": [
    {
     "data": {
      "text/plain": [
       "array([  1.23247,   0.     ,   8.14   ,   0.     ,   0.538  ,   6.142  ,\n",
       "        91.7    ,   3.9769 ,   4.     , 307.     ,  21.     , 396.9    ,\n",
       "        18.72   ])"
      ]
     },
     "execution_count": 18,
     "metadata": {},
     "output_type": "execute_result"
    }
   ],
   "source": [
    "train_data[0]"
   ]
  },
  {
   "cell_type": "markdown",
   "metadata": {},
   "source": [
    "As we note all the input attributes vary in their scales because they measure different quantities. It's a good practice normalize the data before modeling it using a neural network model: for each feature in the input data (a column in the input data matrix), you subtract the mean of the feature and divide by the standard deviation, so that the feature is centered around 0 and has a unit standard deviation. This is easily done in Numpy."
   ]
  },
  {
   "cell_type": "code",
   "execution_count": 20,
   "metadata": {},
   "outputs": [],
   "source": [
    "mean = train_data.mean(axis=0)\n",
    "train_data -= mean\n",
    "std = train_data.std(axis=0)\n",
    "train_data /= std\n",
    "test_data -= mean\n",
    "test_data /= std"
   ]
  },
  {
   "cell_type": "markdown",
   "metadata": {},
   "source": [
    "Note that the quantities used for normalizing the test data are computed using the training data. You should never use in your workflow any quantity computed on the test data, even for something as simple as data normalization."
   ]
  },
  {
   "cell_type": "markdown",
   "metadata": {},
   "source": [
    "## Step 3: Define model's arquitecture and layers\n"
   ]
  },
  {
   "cell_type": "markdown",
   "metadata": {},
   "source": [
    "Because so few samples are available, we’ll use a very small network. In general, the less training data you have, the worse overfit-ting will be, and using a small network is one way to mitigate overfitting.\n",
    "<br><br>\n",
    "Keras support two models: Sequential, a linear stack of layers, and Graph, a directed acyclic graph of layers.\n",
    "\n",
    "Let's start by declaring a sequencial model, which is the most common network architecture by far."
   ]
  },
  {
   "cell_type": "code",
   "execution_count": null,
   "metadata": {},
   "outputs": [],
   "source": [
    "from keras.models import Sequential\n",
    "from keras.layers import Dense\n",
    "\n",
    "model = models.Sequential()\n"
   ]
  },
  {
   "cell_type": "markdown",
   "metadata": {},
   "source": [
    "Now declare the input layer."
   ]
  },
  {
   "cell_type": "code",
   "execution_count": 23,
   "metadata": {},
   "outputs": [
    {
     "data": {
      "text/plain": [
       "13"
      ]
     },
     "execution_count": 23,
     "metadata": {},
     "output_type": "execute_result"
    }
   ],
   "source": [
    "from keras.layers import Dense\n",
    "\n",
    "model.add(layers.Dense(64, activation='relu', input_shape=(13,)))"
   ]
  },
  {
   "cell_type": "markdown",
   "metadata": {},
   "source": [
    "The first parameter correspond to the dimensionality of the output space.\n",
    "The input shape (second parameter) should be the same of the training input (in this case the number of features).\n",
    "The activation is a function that update the weights of the network to optimize the loss values.\n",
    "\n",
    "At this point we can add more layers to our model like we're building legos.\n",
    "\n",
    "The next codes add the second hidden layer to the model:"
   ]
  },
  {
   "cell_type": "code",
   "execution_count": null,
   "metadata": {},
   "outputs": [],
   "source": [
    "model.add(layers.Dense(64, activation='relu'))"
   ]
  },
  {
   "cell_type": "markdown",
   "metadata": {},
   "source": [
    "The next codes add the output layer to the model:"
   ]
  },
  {
   "cell_type": "code",
   "execution_count": null,
   "metadata": {},
   "outputs": [],
   "source": [
    "model.add(layers.Dense(1))"
   ]
  },
  {
   "cell_type": "markdown",
   "metadata": {},
   "source": [
    "The network ends with a single unit and no activation (it will be a linear layer) so the network is free to predict values in any range. This is a typical setup for scalar regression (a regression where you’re trying to predict a single continuous value).\n",
    "\n",
    "The resulting model is a neural network with two hidden layer with 64 neurons each one, where a rectifier activation function is used for the neuron's weight optimization whose has a output of 1."
   ]
  },
  {
   "cell_type": "markdown",
   "metadata": {},
   "source": [
    "## Step 4: Compile model\n",
    "\n",
    "At this point only we need to define the loss function and the optimizer, and then the model will be ready to train.\n",
    "\n",
    "Compile a model means the declaration of the loss function and the optimizer (SGD, Adam, etc.)."
   ]
  },
  {
   "cell_type": "code",
   "execution_count": null,
   "metadata": {},
   "outputs": [],
   "source": [
    "model.compile(optimizer='rmsprop', loss='mse', metrics=['mae'])"
   ]
  },
  {
   "cell_type": "markdown",
   "metadata": {},
   "source": [
    " with two hidden layers, each with 64 units"
   ]
  }
 ],
 "metadata": {
  "kernelspec": {
   "display_name": "Python 2",
   "language": "python",
   "name": "python2"
  },
  "language_info": {
   "codemirror_mode": {
    "name": "ipython",
    "version": 2
   },
   "file_extension": ".py",
   "mimetype": "text/x-python",
   "name": "python",
   "nbconvert_exporter": "python",
   "pygments_lexer": "ipython2",
   "version": "2.7.12"
  }
 },
 "nbformat": 4,
 "nbformat_minor": 2
}
