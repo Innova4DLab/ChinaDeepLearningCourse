{
 "cells": [
  {
   "cell_type": "markdown",
   "metadata": {},
   "source": [
    "# Handwritten Digit Recognition\n",
    "\n",
    "This tutorial guides you through a classic computer vision application: identify hand written digits with a multi-layer perceptron neural network.\n",
    "\n",
    "## Tools\n",
    "\n",
    "* Keras (for the neural network creation)\n",
    "* Matplot (to graph training history)\n",
    "* Numpy (for data types and tensor operations)\n",
    "* Scikitlearn (for data normalization)\n",
    "\n",
    "\n",
    "## Step 1: Load the MNIST dataset\n",
    "We first load the [MNIST](http://yann.lecun.com/exdb/mnist/) dataset, a classic in the machine-learning community, which has been around almost as long as the field itself and has been intensively studied. It’s a set of 60,000 training images, plus 10,000 test images, assembled by the National Institute of Standards and Technology (the NIST in MNIST) in the 1980s. Each image in this dataset has been resized into 28x28 with grayscale values between 0 and 254.\n",
    "\n",
    "The following code load the images and the according labels. The variables x_train and y_train form the training set, the data that the model will learn from. The model will then be tested on the test set (x_test and y_test variables)."
   ]
  },
  {
   "cell_type": "code",
   "execution_count": 2,
   "metadata": {},
   "outputs": [],
   "source": [
    "import keras\n",
    "from keras.datasets import mnist\n",
    "import numpy\n",
    "(x_train, y_train), (x_test, y_test) = mnist.load_data() # The dataset will be downloaded the first time."
   ]
  },
  {
   "cell_type": "markdown",
   "metadata": {},
   "source": [
    "To see the dataset's content we plot the first 10 images and print their labels from training set. The next code iterate over the first 10 samples of the train set and use library matplotlib to show the images graphically and print the respective labels."
   ]
  },
  {
   "cell_type": "code",
   "execution_count": 3,
   "metadata": {
    "scrolled": true
   },
   "outputs": [
    {
     "data": {
      "image/png": "[encoded data removed]",
      "text/plain": [
       "<Figure size 432x288 with 10 Axes>"
      ]
     },
     "metadata": {},
     "output_type": "display_data"
    },
    {
     "name": "stdout",
     "output_type": "stream",
     "text": [
      "label: [5 0 4 1 9 2 1 3 1 4]\n"
     ]
    }
   ],
   "source": [
    "%matplotlib inline\n",
    "import matplotlib.pyplot as plt\n",
    "for i in range(10):\n",
    "    plt.subplot(1,10,i+1)\n",
    "    plt.imshow(x_train[i], cmap='Greys_r')\n",
    "    plt.axis('off')\n",
    "plt.show()\n",
    "print('label: %s' % (y_train[0:10],))"
   ]
  },
  {
   "cell_type": "markdown",
   "metadata": {},
   "source": [
    "The next code show the shape (dimensions) of the train and test sets."
   ]
  },
  {
   "cell_type": "code",
   "execution_count": 4,
   "metadata": {},
   "outputs": [
    {
     "name": "stdout",
     "output_type": "stream",
     "text": [
      "(60000, 28, 28)\n",
      "(10000, 28, 28)\n"
     ]
    }
   ],
   "source": [
    "print(x_train.shape)\n",
    "print(x_test.shape)"
   ]
  },
  {
   "cell_type": "markdown",
   "metadata": {},
   "source": [
    "We see that there are 60,000 and 10,000 samples for the train and test sets respectively with an array of 28 by 28 pixels each one."
   ]
  },
  {
   "cell_type": "markdown",
   "metadata": {},
   "source": [
    "## Step 2: Preprocess input data for neural network\n",
    "\n",
    "The MNIST training dataset is structured as a 3-dimensional array of instance, image width and image height. For a multi-layer model <b>we must reduce the datasets down into a two dimensional array</b> by applying reshaping. Apply tensor reshaping means rearrangement of its dimensions to match a target shape (in this case the input shape needed by the following neural network's input <b>densely connected layer</b> of the step 4 that is a two dimensional array).\n",
    "\n",
    "The following code transforms the train and test sets with shape of (n_samples, image_width, image_height) to (n_samples, image_width * image_height).\n"
   ]
  },
  {
   "cell_type": "code",
   "execution_count": 5,
   "metadata": {},
   "outputs": [
    {
     "name": "stdout",
     "output_type": "stream",
     "text": [
      "(60000, 784)\n",
      "(10000, 784)\n"
     ]
    }
   ],
   "source": [
    "x_train = x_train.reshape(x_train.shape[0], 784)# image_width * image_height = 784\n",
    "x_test = x_test.reshape(x_test.shape[0], 784) # 28 * 28 = 784\n",
    "\n",
    "print(x_train.shape)\n",
    "print(x_test.shape)"
   ]
  },
  {
   "cell_type": "markdown",
   "metadata": {},
   "source": [
    "Reduce our memory requirements by forcing the precision of the pixel values to be 32 bit, the default precision used by Keras anyway. The next code cast the datatype of each value within the train and test sets."
   ]
  },
  {
   "cell_type": "code",
   "execution_count": 6,
   "metadata": {},
   "outputs": [],
   "source": [
    "x_train = x_train.astype('float32')\n",
    "x_test = x_test.astype('float32')"
   ]
  },
  {
   "cell_type": "markdown",
   "metadata": {},
   "source": [
    "When using neural network models is a good idea to perform normalization of the values to the range 0 and 1. The next code use a function from Scikitlearn to normalize (values between 0 and 1) each value within the train and test sets."
   ]
  },
  {
   "cell_type": "code",
   "execution_count": 7,
   "metadata": {},
   "outputs": [],
   "source": [
    "from sklearn.preprocessing import MinMaxScaler\n",
    "\n",
    "sc = MinMaxScaler(feature_range=(0,1))\n",
    "\n",
    "x_train = sc.fit_transform(x_train)\n",
    "x_test = sc.fit_transform(x_test)"
   ]
  },
  {
   "cell_type": "markdown",
   "metadata": {},
   "source": [
    "## Step 3: Preprocess class labels for neural network\n",
    "\n",
    "First of all we show class label's shape of train and test sets. "
   ]
  },
  {
   "cell_type": "code",
   "execution_count": 8,
   "metadata": {},
   "outputs": [
    {
     "name": "stdout",
     "output_type": "stream",
     "text": [
      "(60000,)\n",
      "(10000,)\n"
     ]
    }
   ],
   "source": [
    "print(y_train.shape)\n",
    "print(y_test.shape)"
   ]
  },
  {
   "cell_type": "markdown",
   "metadata": {},
   "source": [
    "The number of values per sample isn't clear because there is a blank value. Let's show the first 10 training's label values."
   ]
  },
  {
   "cell_type": "code",
   "execution_count": 9,
   "metadata": {},
   "outputs": [
    {
     "name": "stdout",
     "output_type": "stream",
     "text": [
      "[5 0 4 1 9 2 1 3 1 4]\n"
     ]
    }
   ],
   "source": [
    "print y_train[:10]"
   ]
  },
  {
   "cell_type": "markdown",
   "metadata": {},
   "source": [
    "The problem is that there are 1-dimensional class arrays and the model spects a class matrix. Then we convert the 1-dimensional class arrays into a 10-dimensional class matrix. We can easily do this using the built-in to_categorical() helper function in Keras (this step is also called one hot encoding). <br><br>\n",
    "The next code use the to_categorical() function to convert the 1-dimensional class arrays into a 10-dimensional class matrix of the train and test sets and show again it's shapes."
   ]
  },
  {
   "cell_type": "code",
   "execution_count": 10,
   "metadata": {},
   "outputs": [
    {
     "name": "stdout",
     "output_type": "stream",
     "text": [
      "(60000, 10)\n",
      "(10000, 10)\n"
     ]
    }
   ],
   "source": [
    "num_classes = 10\n",
    "y_train = keras.utils.to_categorical(y_train, num_classes)\n",
    "y_test = keras.utils.to_categorical(y_test, num_classes)\n",
    "\n",
    "print(y_train.shape)\n",
    "print(y_test.shape)"
   ]
  },
  {
   "cell_type": "markdown",
   "metadata": {},
   "source": [
    "Now we have the needed 10-dimensional matrix per label.\n",
    "\n",
    "Let's show the first 10 labels again."
   ]
  },
  {
   "cell_type": "code",
   "execution_count": 11,
   "metadata": {},
   "outputs": [
    {
     "name": "stdout",
     "output_type": "stream",
     "text": [
      "[[0. 0. 0. 0. 0. 1. 0. 0. 0. 0.]\n",
      " [1. 0. 0. 0. 0. 0. 0. 0. 0. 0.]\n",
      " [0. 0. 0. 0. 1. 0. 0. 0. 0. 0.]\n",
      " [0. 1. 0. 0. 0. 0. 0. 0. 0. 0.]\n",
      " [0. 0. 0. 0. 0. 0. 0. 0. 0. 1.]\n",
      " [0. 0. 1. 0. 0. 0. 0. 0. 0. 0.]\n",
      " [0. 1. 0. 0. 0. 0. 0. 0. 0. 0.]\n",
      " [0. 0. 0. 1. 0. 0. 0. 0. 0. 0.]\n",
      " [0. 1. 0. 0. 0. 0. 0. 0. 0. 0.]\n",
      " [0. 0. 0. 0. 1. 0. 0. 0. 0. 0.]]\n"
     ]
    }
   ],
   "source": [
    "print y_train[:10]"
   ]
  },
  {
   "cell_type": "markdown",
   "metadata": {},
   "source": [
    "Now there is a matrix of float numbers instead of only one integer number, indicating the probability of each class in a normalized way (the average of each matrix is one)."
   ]
  },
  {
   "attachments": {},
   "cell_type": "markdown",
   "metadata": {},
   "source": [
    "## Step 4: Define model's arquitecture and layers\n",
    "\n",
    "In this tutorial we will use an multi-layer perceptron that is perhaps one of the most traditional type of deep learning architecture, and that's when every neuron of a previous layer, is connected to every neuron of the next layer. It looks like this:\n"
   ]
  },
  {
   "cell_type": "markdown",
   "metadata": {},
   "source": [
    "![title](nb1-2.png)"
   ]
  },
  {
   "cell_type": "markdown",
   "metadata": {},
   "source": [
    "In Keras to define a model there are two ways:\n",
    "* By using the [Sequential Model](https://keras.io/models/sequential) that is a linear stack of layers.\n",
    "* Or by using [the functional API](https://keras.io/models/model) that is the way to go for defining complex models, such as multi-output models, directed acyclic graphs, or models with shared layers.\n",
    "<br><br>\n",
    "\n",
    "Let's start by declaring a sequential model, which is the most common way by far."
   ]
  },
  {
   "cell_type": "code",
   "execution_count": 12,
   "metadata": {},
   "outputs": [],
   "source": [
    "from keras.models import Sequential\n",
    "\n",
    "model = Sequential()"
   ]
  },
  {
   "cell_type": "markdown",
   "metadata": {},
   "source": [
    "Now declare the input layer, as a 784 way [densely connected](https://keras.io/layers/core/#dense) (also called fully connected). A dense layer is just a regular layer of neurons in a neural network. Each neuron recieves input from all the neurons in the previous layer (in this case the input data), thus densely connected. <br>"
   ]
  },
  {
   "cell_type": "code",
   "execution_count": 13,
   "metadata": {},
   "outputs": [],
   "source": [
    "from keras.layers import Dense\n",
    "\n",
    "model.add(Dense(28*28, input_dim=28*28, activation='relu', kernel_initializer='normal'))"
   ]
  },
  {
   "cell_type": "markdown",
   "metadata": {},
   "source": [
    "The first parameter corresponds to the dimensionality of the output space (the number of outgoing units or neurons).<br>\n",
    "The input shape (second parameter) should be the same of the training input (in this case the number of features).<br>\n",
    "The [activation supported by keras](https://keras.io/activations/) is a function (either linear or non-linear) that limits the output signal to a finite value.<br>\n",
    "The [kernel_initializer supported by Keras](https://keras.io/initializers/) specifies how the layer's weights are initially randomized. \n",
    "<br><br>\n",
    "Dense layer implements the operation: output = <b>activation(dot(input, kernel) + bias)</b> where:<br>\n",
    "<b>activation</b> is the activation function.<br>\n",
    "<b>dot</b> means the multiplication of input and kernel arrays.<br>\n",
    "<b>input</b> is the training data.<br>\n",
    "<b>kernel</b> is an array containing the weight of each neuron which initial values was generated randomly.<br>\n",
    "<b>bias</b> is a vector created by the layer which initial values was generated randomly.<br>\n",
    "<br>\n",
    "The [activations supported by keras](https://keras.io/activations/) are the following:\n",
    "![title](nb1-3.png)\n",
    "<br><br>\n",
    "\n",
    "At this point we can add more layers to our model like we're  building legos.\n",
    "\n",
    "The next code adds the output layer to the model with 10 neurons (corresponding to the 10 classes of digits):"
   ]
  },
  {
   "cell_type": "code",
   "execution_count": 14,
   "metadata": {},
   "outputs": [],
   "source": [
    "model.add(Dense(10, kernel_initializer='normal', activation='softmax'))"
   ]
  },
  {
   "cell_type": "markdown",
   "metadata": {},
   "source": [
    "The softmax activation function is used on the output layer to turn the outputs into probability-like (values between 0 and 1).<br>\n",
    "Note that <b>Keras automatically handles the connections between layers</b>.\n",
    "<br><br>\n",
    "\n",
    "The resulting model is a simple neural network with one hidden layer with the same number of neurons as there are inputs (784) and an output layer with 10 neurons (number of classes)."
   ]
  },
  {
   "cell_type": "markdown",
   "metadata": {},
   "source": [
    "![title](nb1-1.jpg)"
   ]
  },
  {
   "cell_type": "markdown",
   "metadata": {},
   "source": [
    "## Step 5: Compile model\n",
    "\n",
    "At this point only we need to define the loss function and the optimizer, and then the model will be ready to train.\n",
    "\n",
    "Compile a model means the declaration of the loss function and the optimizer (SGD, Adam, etc)."
   ]
  },
  {
   "cell_type": "code",
   "execution_count": 15,
   "metadata": {},
   "outputs": [],
   "source": [
    "model.compile(loss='categorical_crossentropy', \n",
    "              optimizer='adam', \n",
    "              metrics=['accuracy'])"
   ]
  },
  {
   "cell_type": "markdown",
   "metadata": {},
   "source": [
    "Keras has a variety of [loss functions](https://keras.io/objectives/) and out-of-the-box [optimizers](https://keras.io/optimizers/) to choose from."
   ]
  },
  {
   "cell_type": "markdown",
   "metadata": {},
   "source": [
    "## Step 6: Fit model on training data\n",
    "\n",
    "To fit the model, all we have to do is to declare the batch size and number of epochs to train for, then pass in our training data."
   ]
  },
  {
   "cell_type": "code",
   "execution_count": 16,
   "metadata": {},
   "outputs": [
    {
     "name": "stdout",
     "output_type": "stream",
     "text": [
      "Train on 48000 samples, validate on 12000 samples\n",
      "Epoch 1/30\n",
      " - 38s - loss: 0.2129 - acc: 0.9363 - val_loss: 0.1271 - val_acc: 0.9614\n",
      "Epoch 2/30\n",
      " - 33s - loss: 0.0813 - acc: 0.9749 - val_loss: 0.0972 - val_acc: 0.9692\n",
      "Epoch 3/30\n",
      " - 33s - loss: 0.0525 - acc: 0.9837 - val_loss: 0.0898 - val_acc: 0.9738\n",
      "Epoch 4/30\n",
      " - 34s - loss: 0.0368 - acc: 0.9882 - val_loss: 0.0952 - val_acc: 0.9742\n",
      "Epoch 5/30\n",
      " - 37s - loss: 0.0267 - acc: 0.9914 - val_loss: 0.0814 - val_acc: 0.9777\n",
      "Epoch 6/30\n",
      " - 40s - loss: 0.0188 - acc: 0.9939 - val_loss: 0.0845 - val_acc: 0.9778\n",
      "Epoch 7/30\n",
      " - 37s - loss: 0.0185 - acc: 0.9938 - val_loss: 0.0957 - val_acc: 0.9763\n",
      "Epoch 8/30\n",
      " - 38s - loss: 0.0140 - acc: 0.9958 - val_loss: 0.1031 - val_acc: 0.9751\n",
      "Epoch 9/30\n",
      " - 36s - loss: 0.0119 - acc: 0.9961 - val_loss: 0.0851 - val_acc: 0.9802\n",
      "Epoch 10/30\n",
      " - 36s - loss: 0.0125 - acc: 0.9960 - val_loss: 0.0888 - val_acc: 0.9795\n",
      "Epoch 11/30\n",
      " - 36s - loss: 0.0105 - acc: 0.9968 - val_loss: 0.0947 - val_acc: 0.9788\n",
      "Epoch 12/30\n",
      " - 35s - loss: 0.0074 - acc: 0.9977 - val_loss: 0.1074 - val_acc: 0.9798\n",
      "Epoch 13/30\n",
      " - 35s - loss: 0.0101 - acc: 0.9965 - val_loss: 0.1419 - val_acc: 0.9733\n",
      "Epoch 14/30\n",
      " - 36s - loss: 0.0080 - acc: 0.9976 - val_loss: 0.1207 - val_acc: 0.9775\n",
      "Epoch 15/30\n",
      " - 36s - loss: 0.0091 - acc: 0.9971 - val_loss: 0.1136 - val_acc: 0.9792\n",
      "Epoch 16/30\n",
      " - 36s - loss: 0.0076 - acc: 0.9976 - val_loss: 0.1226 - val_acc: 0.9777\n",
      "Epoch 17/30\n",
      " - 37s - loss: 0.0082 - acc: 0.9976 - val_loss: 0.1183 - val_acc: 0.9800\n",
      "Epoch 18/30\n",
      " - 35s - loss: 0.0034 - acc: 0.9989 - val_loss: 0.1156 - val_acc: 0.9810\n",
      "Epoch 19/30\n",
      " - 34s - loss: 0.0094 - acc: 0.9972 - val_loss: 0.1653 - val_acc: 0.9734\n",
      "Epoch 20/30\n",
      " - 35s - loss: 0.0058 - acc: 0.9981 - val_loss: 0.1169 - val_acc: 0.9815\n",
      "Epoch 21/30\n",
      " - 33s - loss: 0.0058 - acc: 0.9981 - val_loss: 0.1249 - val_acc: 0.9800\n",
      "Epoch 22/30\n",
      " - 34s - loss: 0.0057 - acc: 0.9983 - val_loss: 0.1343 - val_acc: 0.9792\n",
      "Epoch 23/30\n",
      " - 43s - loss: 0.0064 - acc: 0.9982 - val_loss: 0.1493 - val_acc: 0.9768\n",
      "Epoch 24/30\n",
      " - 39s - loss: 0.0060 - acc: 0.9982 - val_loss: 0.1427 - val_acc: 0.9779\n",
      "Epoch 25/30\n",
      " - 44s - loss: 0.0054 - acc: 0.9984 - val_loss: 0.1426 - val_acc: 0.9782\n",
      "Epoch 26/30\n",
      " - 40s - loss: 0.0066 - acc: 0.9983 - val_loss: 0.1575 - val_acc: 0.9766\n",
      "Epoch 27/30\n",
      " - 37s - loss: 0.0060 - acc: 0.9983 - val_loss: 0.1601 - val_acc: 0.9766\n",
      "Epoch 28/30\n",
      " - 36s - loss: 0.0056 - acc: 0.9984 - val_loss: 0.1443 - val_acc: 0.9792\n",
      "Epoch 29/30\n",
      " - 35s - loss: 0.0063 - acc: 0.9982 - val_loss: 0.1801 - val_acc: 0.9775\n",
      "Epoch 30/30\n",
      " - 35s - loss: 0.0039 - acc: 0.9985 - val_loss: 0.1483 - val_acc: 0.9787\n"
     ]
    }
   ],
   "source": [
    "history = model.fit(x_train, y_train, \n",
    "                    batch_size=32, \n",
    "                    epochs=30, \n",
    "                    verbose=2,\n",
    "                    validation_split=0.2)\n"
   ]
  },
  {
   "cell_type": "markdown",
   "metadata": {},
   "source": [
    "## Step 7: Evaluate model on test data\n",
    "\n",
    "We can evaluate our model on the test data."
   ]
  },
  {
   "cell_type": "code",
   "execution_count": 17,
   "metadata": {},
   "outputs": [
    {
     "name": "stdout",
     "output_type": "stream",
     "text": [
      "('Test loss:', 0.12782511346242906)\n",
      "('Test accuracy:', 0.9812)\n"
     ]
    }
   ],
   "source": [
    "score = model.evaluate(x_test, y_test, verbose=0)\n",
    "print('Test loss:', score[0])\n",
    "print('Test accuracy:', score[1])\n"
   ]
  },
  {
   "cell_type": "markdown",
   "metadata": {},
   "source": [
    "## Step 8: Graph training history\n",
    "\n",
    "We can graph the training history to visualize the neural network performance over each iteration."
   ]
  },
  {
   "cell_type": "code",
   "execution_count": 18,
   "metadata": {},
   "outputs": [
    {
     "data": {
      "image/png": "[encoded data removed]",
      "text/plain": [
       "<Figure size 432x288 with 1 Axes>"
      ]
     },
     "metadata": {},
     "output_type": "display_data"
    }
   ],
   "source": [
    "%matplotlib inline\n",
    "plt.plot(history.history['acc'])\n",
    "plt.plot(history.history['val_acc'])\n",
    "plt.title('model accuracy')\n",
    "plt.ylabel('accuracy')\n",
    "plt.xlabel('epoch')\n",
    "plt.legend(['train', 'test'], loc='upper left')\n",
    "plt.show()"
   ]
  },
  {
   "cell_type": "markdown",
   "metadata": {},
   "source": [
    "Finally we can graph the loss history over each iteration ."
   ]
  },
  {
   "cell_type": "code",
   "execution_count": 19,
   "metadata": {},
   "outputs": [
    {
     "data": {
      "image/png": "[encoded data removed]",
      "text/plain": [
       "<Figure size 432x288 with 1 Axes>"
      ]
     },
     "metadata": {},
     "output_type": "display_data"
    }
   ],
   "source": [
    "plt.plot(history.history['loss'])\n",
    "plt.plot(history.history['val_loss'])\n",
    "plt.title('model loss')\n",
    "plt.ylabel('loss')\n",
    "plt.xlabel('epoch')\n",
    "plt.legend(['train', 'test'], loc='upper left')\n",
    "plt.show()"
   ]
  }
 ],
 "metadata": {
  "kernelspec": {
   "display_name": "Python 2",
   "language": "python",
   "name": "python2"
  }
 },
 "nbformat": 4,
 "nbformat_minor": 1
}
