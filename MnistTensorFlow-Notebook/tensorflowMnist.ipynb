{
 "cells": [
  {
   "cell_type": "markdown",
   "metadata": {},
   "source": [
    "<img src=\"logos.jpg\" width=\"700\" />\n",
    "\n",
    "# Tensorflow example using Mnist dataset\n",
    "\n",
    "The purpose of this notebook is to ilustrate the use of __Tensorflow__ package in an example that includes the construction of a neural network and the use of a supervised learning approach based in the back-propagation theory. The proposed example is based on the classic Mnist dataset in which the main objective is to identify images of hand-written digits.\n",
    "\n",
    "Example main features:\n",
    "\n",
    "1. All the code was implemented in Python 3.5 https://www.python.org/ \n",
    "2. The  Python packages required to run the programs are the following:\n",
    "    * Jupyter notebook (Python interactive prompt) http://jupyter.org/index.html\n",
    "    * Tensorflow (Representation-classification) https://www.tensorflow.org/\n",
    "    * Numpy (classification) http://www.numpy.org/\n",
    "    * Matplotlib (visualization) https://matplotlib.org/\n",
    "3. The Tensorflow version used correspond to a standalone application which means that does not support the use of parallel \n",
    "   computations on GPUs.\n",
    "\n",
    "    \n",
    "## Step 1: Load the MNIST dataset\n",
    "\n",
    "The Mnist dataset includes over 60,000 training images, plus 10,000 test images resized into 28x28 matices with grayscale values between 0 and 254.The following shows how to load this dataset:"
   ]
  },
  {
   "cell_type": "code",
   "execution_count": 3,
   "metadata": {},
   "outputs": [
    {
     "name": "stdout",
     "output_type": "stream",
     "text": [
      "Extracting MNIST_data/train-images-idx3-ubyte.gz\n",
      "Extracting MNIST_data/train-labels-idx1-ubyte.gz\n",
      "Extracting MNIST_data/t10k-images-idx3-ubyte.gz\n",
      "Extracting MNIST_data/t10k-labels-idx1-ubyte.gz\n"
     ]
    },
    {
     "data": {
      "image/png": "[encoded data removed]",
      "text/plain": [
       "<Figure size 432x288 with 10 Axes>"
      ]
     },
     "metadata": {},
     "output_type": "display_data"
    },
    {
     "name": "stdout",
     "output_type": "stream",
     "text": [
      "Labels: 7 , 3 , 4 , 6 , 1 , 8 , 1 , 0 , 9 , 8\n"
     ]
    }
   ],
   "source": [
    "#Command used to see the plot inside the Jupyter notebook\n",
    "%matplotlib inline\n",
    "import matplotlib.pyplot as plt\n",
    "import numpy as np\n",
    "#Package used to get the Mnist dataset from Tensorflow available examples\n",
    "from tensorflow.examples.tutorials.mnist import input_data\n",
    "#Load the Mnist dataset\n",
    "mnist = input_data.read_data_sets(\"MNIST_data/\", one_hot=True)\n",
    "labels=[]\n",
    "#Plot the first ten images of the Mnist dataset\n",
    "for number in range(10):\n",
    "    #Add a subplot to the matplotlib main canvas\n",
    "    plt.subplot(1,10,number+1)\n",
    "    #Get images and labels from the dataset\n",
    "    image=mnist.train.images[number]\n",
    "    label=mnist.train.labels[number]\n",
    "    #Transform the image to a numpy object to manipulate it\n",
    "    image=np.array(image, dtype='float')\n",
    "    #Reshape(rows,columns) the digits from a matrix of (784,) to a matrix of (28,28)\n",
    "    plt.imshow(image.reshape(28, 28), cmap='Greys_r')\n",
    "    #Eliminate axis labels from the plot\n",
    "    plt.axis('off')\n",
    "    labels.append(label)\n",
    "#Show the plot (ten images)    \n",
    "plt.show()\n",
    "#Transform the labels to a single number instead of a list\n",
    "labels=[str([i for i,y in enumerate(x) if y == 1][0]) for x in labels]\n",
    "print (\"Labels: \"+\" , \".join(labels))"
   ]
  },
  {
   "cell_type": "markdown",
   "metadata": {},
   "source": [
    "## Step 2: Preprocess the Mnist dataset\n",
    "1. Cast the digits from each training image to a float number (in case of any error in the dataset)"
   ]
  },
  {
   "cell_type": "code",
   "execution_count": 4,
   "metadata": {},
   "outputs": [
    {
     "name": "stdout",
     "output_type": "stream",
     "text": [
      "Reshaped image examples\n",
      "[[0. 0. 0. ... 0. 0. 0.]\n",
      " [0. 0. 0. ... 0. 0. 0.]\n",
      " [0. 0. 0. ... 0. 0. 0.]\n",
      " ...\n",
      " [0. 0. 0. ... 0. 0. 0.]\n",
      " [0. 0. 0. ... 0. 0. 0.]\n",
      " [0. 0. 0. ... 0. 0. 0.]]\n",
      "Reshaped label examples\n",
      "[7 3 4 6 1 8 1 0 9 8]\n",
      "Images dimensions: (55000, 784)\n",
      "Labels dimensions: (55000, 784)\n"
     ]
    }
   ],
   "source": [
    "#Empty lists for storing reshaped images and labels\n",
    "trainingImages= []\n",
    "trainingLabels=[]\n",
    "#For each image\n",
    "for image in mnist.train.images:\n",
    "    #Transform all the values to a float data type\n",
    "    image=np.array(image, dtype='float')\n",
    "    #Transform an image to a matrix of 28x28\n",
    "    trainingImages.append(image)\n",
    "#Obtain the labels associated to each image (in a scalar form instead of a vector)\n",
    "for label in mnist.train.labels:   \n",
    "    trainingLabels.append(str([i for i,y in enumerate(label) if y == 1][0]))\n",
    "#Transform the training list to a numpy array (for compatibility with Tensorflow function)   \n",
    "trainingImages = np.array(trainingImages, np.float32)    \n",
    "trainingLabels = np.array(trainingLabels, np.int32) \n",
    "print (\"Reshaped image examples\")\n",
    "print(trainingImages[:10])\n",
    "print (\"Reshaped label examples\")\n",
    "print(trainingLabels[:10])\n",
    "print (\"Images dimensions: \" + str(trainingImages.shape))\n",
    "print (\"Labels dimensions: \" + str(trainingImages.shape))\n",
    "\n"
   ]
  },
  {
   "cell_type": "markdown",
   "metadata": {},
   "source": [
    "2\\. Reshape the digits from each test image to a matrix of (28,28) (rows,columns)"
   ]
  },
  {
   "cell_type": "code",
   "execution_count": 5,
   "metadata": {},
   "outputs": [],
   "source": [
    "testImages= []\n",
    "testLabels=[]\n",
    "for image in mnist.test.images:\n",
    "    image=np.array(image, dtype='float')\n",
    "    testImages.append(image)   \n",
    "for label in mnist.test.labels:   \n",
    "    testLabels.append(str([i for i,y in enumerate(label) if y == 1][0]))  \n",
    "testImages = np.array(testImages, np.float32)    \n",
    "testLabels = np.array(testLabels, np.int32) "
   ]
  },
  {
   "cell_type": "markdown",
   "metadata": {},
   "source": [
    "## Step 3: Define the Tensorflow graph \n",
    "\n",
    "1. Remainder of the Back-propagtion intuition\n",
    "\n",
    "<img src=\"backPropagation.jpg\" alt=\"Drawing\" style=\"width: 600px;\"/>\n",
    "\n",
    "\n",
    "2\\.  Multi-layer perceptron proposed for this example\n",
    "\n",
    "<img src=\"backPropagation2.png\" alt=\"Drawing\" style=\"width: 600px;\"/>\n"
   ]
  },
  {
   "cell_type": "markdown",
   "metadata": {},
   "source": [
    "3\\.  Create the proposed graph in the Tensorflow environment considering that nodes in the graph represent mathematical operations, whereas edges represent data (tensors) that is communicated from one node to others. It is important to highlight that tensors are multidimensional arrays (representing vectors with a 1D tensors, matrices with a 2D tensors, etc.)."
   ]
  },
  {
   "cell_type": "code",
   "execution_count": 6,
   "metadata": {},
   "outputs": [],
   "source": [
    "import tensorflow as tf\n",
    "\n",
    "#Number of neurons for the input layer\n",
    "n_inputs = 28*28 #Features size\n",
    "#Number of neurons per hidden layer\n",
    "n_hidden1 = 300\n",
    "n_hidden2 = 300\n",
    "n_hidden3 = 100\n",
    "#Number of neurons for the output layer\n",
    "n_outputs = 10"
   ]
  },
  {
   "cell_type": "markdown",
   "metadata": {},
   "source": [
    "Inside the graph construction, a placeholder is simply a variable that we will assign data to at a later date. It allows us to create our operations and build our computation graph, without needing the data."
   ]
  },
  {
   "cell_type": "code",
   "execution_count": 8,
   "metadata": {},
   "outputs": [],
   "source": [
    "#https://www.tensorflow.org/api_docs/python/tf/placeholder\n",
    "#Training sample representation\n",
    "X = tf.placeholder(tf.float32, shape=(None, n_inputs), name=\"X\")  #2D tensor\n",
    "#Target sample representation\n",
    "y = tf.placeholder(tf.int32, shape=(None), name=\"y\") #1D tensor"
   ]
  },
  {
   "cell_type": "markdown",
   "metadata": {},
   "source": [
    "After define the placeholders, we can create a function that represents the behavior of a neural network layer. It is important to noticed that in the function there are define multiple Tensorflow variables which helps to represent shared, persistent values across a graph execution. "
   ]
  },
  {
   "cell_type": "code",
   "execution_count": 10,
   "metadata": {},
   "outputs": [],
   "source": [
    "\"\"\"\n",
    "Function parameters:\n",
    "\n",
    "X = Vector features (28x28)\n",
    "n_neurons = Number of neurons for a layer\n",
    "name= Layer name\n",
    "activation = Activation functions used for each neuron\n",
    "\"\"\"\n",
    "def neuron_layer(X, n_neurons, name, activation=None):\n",
    "    #Tensorflow name scope to group together operations (nodes) in the graph\n",
    "    with tf.name_scope(name):\n",
    "        #Get the number of elements by checking the vectors feature shape\n",
    "        n_inputs = int(X.get_shape()[1])\n",
    "        #Create a random weight matrix using a Gaussian distribution\n",
    "        #The standard deviation helps the algorithm to converge faster in a training phase\n",
    "        stddev = 2 / np.sqrt(n_inputs)\n",
    "        init = tf.truncated_normal((n_inputs, n_neurons), stddev=stddev)\n",
    "        W = tf.Variable(init, name=\"weights\")\n",
    "        #Create a Tensorflow variable for the bias\n",
    "        b = tf.Variable(tf.zeros([n_neurons]), name=\"bias\")\n",
    "        \n",
    "        \"\"\"\n",
    "        ATTENTION: Creation of the graph in Tensorflow\n",
    "        Compute the weighted sum of the inputs plus the bias term for each neuron the layer\n",
    "        https://www.tensorflow.org/api_docs/python/tf/matmul\n",
    "        \"\"\"\n",
    "        Z = tf.matmul(X, W) + b\n",
    "        #Returns the activation function of each neuron in the layer\n",
    "        if activation is not None:\n",
    "            return activation(Z)\n",
    "        else:\n",
    "            return Z"
   ]
  },
  {
   "cell_type": "markdown",
   "metadata": {},
   "source": [
    "Finally, the different layers are created in the graph (neural network) using the previously created function."
   ]
  },
  {
   "cell_type": "code",
   "execution_count": 11,
   "metadata": {},
   "outputs": [],
   "source": [
    "#Tensorflow name scope to group together operations (nodes) in the graph\n",
    "with tf.name_scope(\"dnn\"):\n",
    "    # The first layer take the feature vector as input\n",
    "    hidden1 = neuron_layer(X, n_hidden1, name=\"hidden1\",activation=tf.nn.relu)\n",
    "    #The second layer take the output of the first layer as input\n",
    "    hidden2 = neuron_layer(hidden1, n_hidden2, name=\"hidden2\",activation=tf.nn.relu)\n",
    "    #The third layer take the output of the second layer as input\n",
    "    hidden3 = neuron_layer(hidden2, n_hidden3, name=\"hidden3\",activation=tf.nn.relu)\n",
    "    #The output of the third layer is taken as input for the final layer\n",
    "    #Outputs are also called logits in the neural network theory\n",
    "    ouputs = neuron_layer(hidden3, n_outputs, name=\"outputs\")"
   ]
  },
  {
   "cell_type": "markdown",
   "metadata": {},
   "source": [
    "The activation function used in the neural network is presented below (https://www.tensorflow.org/versions/r1.0/api_guides/python/nn):\n",
    "\n",
    "<img src=\"ReLU.png\" alt=\"Drawing\" style=\"width: 500px;\"/>"
   ]
  },
  {
   "cell_type": "markdown",
   "metadata": {},
   "source": [
    "## Step 4: Create a cost function and optimizer for the Tensorflow graph\n",
    "\n",
    "1. Define a cost function that helps to obtain the error rate between the neural network output and the real value provided by the training labels. In this case the __softmax cross entropy__ is used, considering that this function penalize models that estimate a low probability for the target labels. The softmax cross entropy function first apply the softmax activation and then compute the cross entropy. In order to obtain the error rate (single value) associated, the __mean cross entropy__ is obtained.\n",
    "\n",
    "<img src=\"cost.png\" alt=\"Drawing\" style=\"width: 400px;\"/>\n",
    "<img src=\"softmaxFun.jpg\" alt=\"Drawing\" style=\"width: 400px;\"/>\n",
    "<img src=\"crossEntropy.png\" alt=\"Drawing\" style=\"width: 400px;\"/>"
   ]
  },
  {
   "cell_type": "code",
   "execution_count": 13,
   "metadata": {},
   "outputs": [],
   "source": [
    "with tf.name_scope(\"cost\"):\n",
    "    #https://www.tensorflow.org/api_docs/python/tf/nn/sparse_softmax_cross_entropy_with_logits\n",
    "    #Obtain the softmax cross entropy which returns a ID tensor\n",
    "    entropy = tf.nn.sparse_softmax_cross_entropy_with_logits(labels=y,logits=ouputs)\n",
    "    #Obtain the mean value associated to the 1D tensor previously calculated\n",
    "    #https://www.tensorflow.org/api_docs/python/tf/reduce_mean\n",
    "    loss = tf.reduce_mean(entropy, name=\"loss\")"
   ]
  },
  {
   "cell_type": "markdown",
   "metadata": {},
   "source": [
    "2\\. After obtaining the error rate associated to the graph we need to minimize the cost function by updating the graph weights using an optimization process. In this case it is use a gradient descent approach considering its versatility to be applied to different types of problems.\n",
    "\n",
    "<img src=\"gradient.png\" alt=\"Drawing\" style=\"width: 400px;\"/>"
   ]
  },
  {
   "cell_type": "code",
   "execution_count": 14,
   "metadata": {},
   "outputs": [],
   "source": [
    "\"\"\"\n",
    "the Learning step is a hyper-parameter that controls how much we are adjusting the weights of our network with respect the \n",
    "loss gradient. The lower the value, the slower we travel along the downward slope\n",
    "\"\"\"\n",
    "learningStep = 0.01\n",
    "#Tensorflow name scope to group together operations (nodes) in the graph\n",
    "with tf.name_scope(\"train\"):\n",
    "    #Prepare the optimizer\n",
    "    #https://www.tensorflow.org/api_docs/python/tf/train/GradientDescentOptimizer\n",
    "    optimizer = tf.train.GradientDescentOptimizer(learningStep)\n",
    "    #Minimize the error rate\n",
    "    training_op = optimizer.minimize(loss)"
   ]
  },
  {
   "cell_type": "markdown",
   "metadata": {},
   "source": [
    "\n",
    "## Step 5: Training phase\n",
    "\n",
    "1. Specify how to evaluate  the model that is going to be created from the neural network. First, for each instance, determine if the neural networks prediction is correct by checking whether or not the highest value obtained in the output layer correspond to the target label. Later calculate the average of the results obtained and calculate the accuracy."
   ]
  },
  {
   "cell_type": "code",
   "execution_count": 15,
   "metadata": {},
   "outputs": [],
   "source": [
    "with tf.name_scope(\"evaluation\"):\n",
    "    #https://www.tensorflow.org/api_docs/python/tf/nn/in_top_k\n",
    "    #Says whether the targets are in the top K predictions.\n",
    "    correct = tf.nn.in_top_k(ouputs, y, 1)\n",
    "    #Obtain the accuracy for each training vector\n",
    "    #https://www.tensorflow.org/api_docs/python/tf/cast\n",
    "    accuracy = tf.reduce_mean(tf.cast(correct, tf.float32))"
   ]
  },
  {
   "cell_type": "markdown",
   "metadata": {},
   "source": [
    "2\\. Implement a function that divides the training dataset into a number of sets or parts for creating the neural network easily."
   ]
  },
  {
   "cell_type": "code",
   "execution_count": 16,
   "metadata": {},
   "outputs": [],
   "source": [
    "def createBatch(X, y, batch_size):\n",
    "    #Obtan a list of random indices from 0 to len(X)\n",
    "    rnd_idx = np.random.permutation(len(X))\n",
    "    n_batches = len(X) // batch_size\n",
    "    #Split a list into multiple sub-arrays.\n",
    "    for batch_idx in np.array_split(rnd_idx, n_batches):\n",
    "        #Obtain the list batches\n",
    "        X_batch, y_batch = X[batch_idx], y[batch_idx]\n",
    "        #Return a Python generator that creates the batches on the fly without saving them in memory\n",
    "        yield X_batch, y_batch"
   ]
  },
  {
   "cell_type": "markdown",
   "metadata": {},
   "source": [
    "3\\. After the construction of the graph structure and the operations associated, the next step is to create a classification model following a supervised learning approach."
   ]
  },
  {
   "cell_type": "code",
   "execution_count": 19,
   "metadata": {},
   "outputs": [
    {
     "name": "stdout",
     "output_type": "stream",
     "text": [
      "('Epoch:', 1, 'Batch accuracy:', 0.96)\n",
      "('Epoch:', 2, 'Batch accuracy:', 0.88)\n",
      "('Epoch:', 3, 'Batch accuracy:', 0.98)\n",
      "('Epoch:', 4, 'Batch accuracy:', 0.98)\n",
      "('Epoch:', 5, 'Batch accuracy:', 1.0)\n",
      "('Epoch:', 6, 'Batch accuracy:', 0.96)\n",
      "('Epoch:', 7, 'Batch accuracy:', 0.98)\n",
      "('Epoch:', 8, 'Batch accuracy:', 0.98)\n",
      "('Epoch:', 9, 'Batch accuracy:', 1.0)\n",
      "('Epoch:', 10, 'Batch accuracy:', 1.0)\n",
      "('Epoch:', 11, 'Batch accuracy:', 1.0)\n",
      "('Epoch:', 12, 'Batch accuracy:', 1.0)\n",
      "('Epoch:', 13, 'Batch accuracy:', 1.0)\n",
      "('Epoch:', 14, 'Batch accuracy:', 1.0)\n",
      "('Epoch:', 15, 'Batch accuracy:', 0.98)\n"
     ]
    }
   ],
   "source": [
    "#Allocate all the variables in the Tensorflow environment for initialization\n",
    "#https://www.tensorflow.org/api_docs/python/tf/global_variables\n",
    "init = tf.global_variables_initializer()\n",
    "#Tensorflow variable used for saving (and restoring) our model to disk\n",
    "#https://www.tensorflow.org/api_docs/python/tf/train/Saver\n",
    "saver = tf.train.Saver()\n",
    "#Number of epochs that we want to run the model\n",
    "numberEpochs = 15\n",
    "#Number of batches related to each epoch\n",
    "batchSize = 50\n",
    "\"\"\"\n",
    "Create a TensorFlow session to run the graph across a set of local and remote devices. A Session object \n",
    "encapsulates the environment in which Operation objects are executed, and tensor objects are evaluated.\n",
    "\"\"\"\n",
    "with tf.Session() as sess:\n",
    "    #Initialize all variables in the session\n",
    "    init.run()\n",
    "    #One Epoch is when an ENTIRE dataset is passed forward and backward through the neural network only ONCE.\n",
    "    for epoch in range(numberEpochs):\n",
    "        #Since, one epoch is too big to feed to the computer at once we divide it in several smaller batches.\n",
    "        for X_batch, y_batch in createBatch(trainingImages, trainingLabels, batchSize):\n",
    "            #Train the neural network using each batch \n",
    "            sess.run(training_op, feed_dict={X: X_batch, y: y_batch})\n",
    "        #Evaluate the accuracy for each batch    \n",
    "        acc_batch = accuracy.eval(feed_dict={X: X_batch, y: y_batch})   \n",
    "        print(\"Epoch:\",epoch+1, \"Batch accuracy:\", acc_batch)\n",
    "    #Save the model in the disk for evaluation later the test dataset  \n",
    "    save_path = saver.save(sess, \"./NeuralNetworkModel.ckpt\")      "
   ]
  },
  {
   "cell_type": "markdown",
   "metadata": {},
   "source": [
    "## Step 6: Test phase\n",
    "\n",
    "- Evaluate the proposed model with the Mnist test dataset"
   ]
  },
  {
   "cell_type": "code",
   "execution_count": 20,
   "metadata": {},
   "outputs": [
    {
     "name": "stdout",
     "output_type": "stream",
     "text": [
      "INFO:tensorflow:Restoring parameters from ./NeuralNetworkModel.ckpt\n",
      "('Predicted classes:', array([7, 2, 1, 0, 4, 1, 4, 9, 5, 9, 0, 6, 9, 0, 1, 5, 9, 7, 3, 4]))\n",
      "('Actual classes:   ', array([7, 2, 1, 0, 4, 1, 4, 9, 5, 9, 0, 6, 9, 0, 1, 5, 9, 7, 3, 4],\n",
      "      dtype=int32))\n",
      "('Accuracy prediction:', 0.98)\n"
     ]
    }
   ],
   "source": [
    "\"\"\"\n",
    "Create a TensorFlow session to run the graph across a set of local and remote devices. A Session object \n",
    "encapsulates the environment in which Operation objects are executed, and tensor objects are evaluated.\n",
    "\"\"\"\n",
    "with tf.Session() as sess:\n",
    "    #Recover the model from the disk\n",
    "    saver.restore(sess, \"./NeuralNetworkModel.ckpt\")\n",
    "    #Obtain the first twenty images from the test dataset\n",
    "    testSubset = testImages[:20]\n",
    "    #Apply the model for each image to obtain a prediction (number label)\n",
    "    Z = ouputs.eval(feed_dict={X:testSubset})\n",
    "    #Obtain the index of the maximum value of the ten neurons in the ouput layer\n",
    "    predictions = np.argmax(Z, axis=1)\n",
    "    #Show a comparison of predicted values and true values (gold standard)\n",
    "    print(\"Predicted classes:\", predictions)\n",
    "    print(\"Actual classes:   \", testLabels[:20])  \n",
    "    accuracyPrediction = accuracy.eval(feed_dict={X: X_batch, y: y_batch})   \n",
    "    print(\"Accuracy prediction:\", accuracyPrediction)"
   ]
  },
  {
   "cell_type": "markdown",
   "metadata": {},
   "source": [
    "## Conclusions\n",
    "\n",
    "- What we seen so far:\n",
    "    1. Load and inspect an specific dataset.\n",
    "    2. Preprocess the information associated to the dataset.\n",
    "    3. Creation of a Neural network using the Tensorflow package.\n",
    "        * Input layer with seven hundred and eighty four neurons.\n",
    "        * Two hiden layers of three hundred neurons.\n",
    "        * One layer of one hundred neurons.\n",
    "        * One ouput layer of ten neurons, one for each posible number in the dataset (0, 1, ..., 9).\n",
    "    4. Implementation of a cost function and an optimizer for training the neural network.\n",
    "    5. Creation of a model using the training dataset provided.\n",
    "    6. Evaluation of the test dataset set using the model created.\n",
    "- Obtained results highlight the following findings:  \n",
    "    1. Tensorflow permits to create a graph where nodes are operations and edges are information that flows from one operation to others.\n",
    "    2. The variables, constants and placeholders created in Tensorflow not need to be evaluated immediately or in the same machine.\n",
    "    3. There are multiple predefined functions in Tensorflow that can help to create a neural network easily.\n",
    "    4. If the computations were dense, we can distribute the job processing among different computers or gpus using Tensorflow API."
   ]
  },
  {
   "cell_type": "code",
   "execution_count": null,
   "metadata": {},
   "outputs": [],
   "source": []
  }
 ],
 "metadata": {
  "kernelspec": {
   "display_name": "Python 2",
   "language": "python",
   "name": "python2"
  },
  "language_info": {
   "codemirror_mode": {
    "name": "ipython",
    "version": 2
   },
   "file_extension": ".py",
   "mimetype": "text/x-python",
   "name": "python",
   "nbconvert_exporter": "python",
   "pygments_lexer": "ipython2",
   "version": "2.7.11"
  }
 },
 "nbformat": 4,
 "nbformat_minor": 2
}
